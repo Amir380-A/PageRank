{
  "nbformat": 4,
  "nbformat_minor": 0,
  "metadata": {
    "colab": {
      "provenance": []
    },
    "kernelspec": {
      "name": "python3",
      "display_name": "Python 3"
    },
    "language_info": {
      "name": "python"
    }
  },
  "cells": [
    {
      "cell_type": "markdown",
      "source": [
        "# **Matrix resolution**"
      ],
      "metadata": {
        "id": "0kXbORtyWn75"
      }
    },
    {
      "cell_type": "markdown",
      "source": [
        "The matrix is found by writing all different relations between all different websites. To calculate our solution, we have one stochastic matrix M and a vector r.\n",
        "The stochastic matrix M sized (n*n) represents all relations between all websites with the column header representing the website and the row headers the successors.\n",
        "The composition of the matrix follow the relations between a website and its successor/predecessors.\n",
        "Stochastic matrix (M) composition :"
      ],
      "metadata": {
        "id": "2r0mc_eYW0JI"
      }
    },
    {
      "cell_type": "markdown",
      "source": [
        "![diagram_page_rank_3 (1).png](data:image/png;base64,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)"
      ],
      "metadata": {
        "id": "Z20nPbmoXTmi"
      }
    },
    {
      "cell_type": "code",
      "execution_count": 11,
      "metadata": {
        "id": "sxfC72p1U9FC"
      },
      "outputs": [],
      "source": [
        "import numpy as np\n",
        "def calculate_page_rank(M, r0, epsilon):\n",
        "    num_iteration = 0\n",
        "    do_loop = True\n",
        "    rk1 = np.dot(M, r0)\n",
        "    print(f\"iteration r{num_iteration} = \" + np.array2string(rk1, precision=2, separator=',', suppress_small=True))\n",
        "    while do_loop:\n",
        "        num_iteration += 1\n",
        "        rk0 = rk1\n",
        "        rk1 = np.dot(M, rk1)\n",
        "        print(f\"Iteration r{num_iteration} = \" + np.array2string(rk1, precision=2, separator=',', suppress_small=True))\n",
        "        do_loop = not (np.linalg.norm((rk1 - rk0), ord=1) < epsilon)\n",
        "    return rk1"
      ]
    },
    {
      "cell_type": "code",
      "source": [
        "matrix_size = 5\n",
        "M = np.array(\n",
        "    [\n",
        "        [0, 0, 0, 1, 1 / 3],\n",
        "        [1, 0, 0, 0, 1 / 3],\n",
        "        [0, 1, 0, 0, 0],\n",
        "        [0, 0, 1 / 2, 0, 1 / 3],\n",
        "        [0, 0, 1 / 2, 0, 0]\n",
        "    ]\n",
        ")\n",
        "\n",
        "r0 = np.array([1 / 5, 1 / 5, 1 / 5, 1 / 5, 1 / 5]).transpose()\n",
        "epsilon = 0.1\n",
        "\n",
        "pagerank_result = calculate_page_rank(M, r0, epsilon)"
      ],
      "metadata": {
        "colab": {
          "base_uri": "https://localhost:8080/"
        },
        "id": "hCYX5OEZVfG5",
        "outputId": "29939c88-c237-4cad-d48f-c17abd96ed1a"
      },
      "execution_count": 12,
      "outputs": [
        {
          "output_type": "stream",
          "name": "stdout",
          "text": [
            "iteration r0 = [0.27,0.27,0.2 ,0.17,0.1 ]\n",
            "Iteration r1 = [0.2 ,0.3 ,0.27,0.13,0.1 ]\n",
            "Iteration r2 = [0.17,0.23,0.3 ,0.17,0.13]\n",
            "Iteration r3 = [0.21,0.21,0.23,0.19,0.15]\n",
            "Iteration r4 = [0.24,0.26,0.21,0.17,0.12]\n",
            "Iteration r5 = [0.21,0.28,0.26,0.14,0.11]\n",
            "Iteration r6 = [0.18,0.24,0.28,0.17,0.13]\n",
            "Iteration r7 = [0.21,0.22,0.24,0.19,0.14]\n",
            "Iteration r8 = [0.23,0.26,0.22,0.17,0.12]\n",
            "Iteration r9 = [0.21,0.27,0.26,0.15,0.11]\n"
          ]
        }
      ]
    },
    {
      "cell_type": "code",
      "source": [
        "dictionary_index_link = {\n",
        "    '1':'A',\n",
        "    '2':'B',\n",
        "    '3':'C',\n",
        "    '4':'D',\n",
        "    '5':'E'\n",
        "}\n",
        "\n",
        "def display_websites(dictionary_index_link, page_rank_result, matrix_size, row_number=3):\n",
        "    pagerank = [(dictionary_index_link[str(i)], page_rank_result[i - 1]) for i in range(1, matrix_size + 1)]\n",
        "    pagerank.sort(key=lambda a: a[1], reverse=True)\n",
        "    for i in range(row_number):\n",
        "        print(f\"{i+1} : {pagerank[i]}\")\n",
        "display_websites(dictionary_index_link, pagerank_result, matrix_size, 5)"
      ],
      "metadata": {
        "colab": {
          "base_uri": "https://localhost:8080/"
        },
        "id": "ctWLHKroVsrS",
        "outputId": "7808cce9-4dbb-448b-a2fe-427c5dcb64a6"
      },
      "execution_count": 8,
      "outputs": [
        {
          "output_type": "stream",
          "name": "stdout",
          "text": [
            "1 : ('B', 0.27253086419753086)\n",
            "2 : ('C', 0.2564814814814814)\n",
            "3 : ('A', 0.20771604938271604)\n",
            "4 : ('D', 0.15169753086419752)\n",
            "5 : ('E', 0.11157407407407406)\n"
          ]
        }
      ]
    }
  ]
}